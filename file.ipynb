{
  "cells": [
    {
      "cell_type": "code",
      "execution_count": 1,
      "metadata": {
        "id": "jxhL5Tuz_bb9"
      },
      "outputs": [],
      "source": [
        "import pandas as pd\n",
        "import seaborn as sns\n"
      ]
    },
    {
      "cell_type": "code",
      "execution_count": 2,
      "metadata": {
        "id": "AlMQdsb1DVtL"
      },
      "outputs": [],
      "source": [
        "path=\"/content/DT_Reda (1).csv\"\n",
        "df=pd.read_csv(path)"
      ]
    },
    {
      "cell_type": "code",
      "execution_count": 3,
      "metadata": {
        "colab": {
          "base_uri": "https://localhost:8080/",
          "height": 285
        },
        "id": "LmwEdqaADm6Y",
        "outputId": "a5cf5b01-1f7b-42d9-d91b-fe6fd0b4f5cc"
      },
      "outputs": [
        {
          "output_type": "execute_result",
          "data": {
            "text/plain": [
              "        totBM  Age (y)  height (cm)  BD (cm)  D10 (cm)  Canopy height (cm)  \\\n",
              "0  214.813165       16          312   25.471    19.735             256.000   \n",
              "1   55.462175       16          300   15.597     5.093             170.667   \n",
              "2   13.058309       16          366    9.237    26.101             286.500   \n",
              "3    0.596283        2          120    3.020     2.182              81.000   \n",
              "4    0.353901        2          119    2.500     2.059              72.000   \n",
              "\n",
              "   Crown diameter NS (cm)  Crown diameter WE  (m)  Crown area (square m)  \\\n",
              "0                     272                    2.95                  5.528   \n",
              "1                     238                  317.00                  7.439   \n",
              "2                     362                  342.00                 15.841   \n",
              "3                      88                  134.00                  1.412   \n",
              "4                      80                   52.00                  0.746   \n",
              "\n",
              "   average canopy diameter  canopy radius  Primary Stems  Wood density  \n",
              "0                  137.475        68.7375              5           990  \n",
              "1                  277.500       138.7500              9           970  \n",
              "2                  352.000       176.0000              7           960  \n",
              "3                  111.000        55.5000              3           300  \n",
              "4                   66.000        33.0000              2           311  "
            ],
            "text/html": [
              "\n",
              "  <div id=\"df-18545fe7-3613-4f5d-bd4e-9d55206113f5\">\n",
              "    <div class=\"colab-df-container\">\n",
              "      <div>\n",
              "<style scoped>\n",
              "    .dataframe tbody tr th:only-of-type {\n",
              "        vertical-align: middle;\n",
              "    }\n",
              "\n",
              "    .dataframe tbody tr th {\n",
              "        vertical-align: top;\n",
              "    }\n",
              "\n",
              "    .dataframe thead th {\n",
              "        text-align: right;\n",
              "    }\n",
              "</style>\n",
              "<table border=\"1\" class=\"dataframe\">\n",
              "  <thead>\n",
              "    <tr style=\"text-align: right;\">\n",
              "      <th></th>\n",
              "      <th>totBM</th>\n",
              "      <th>Age (y)</th>\n",
              "      <th>height (cm)</th>\n",
              "      <th>BD (cm)</th>\n",
              "      <th>D10 (cm)</th>\n",
              "      <th>Canopy height (cm)</th>\n",
              "      <th>Crown diameter NS (cm)</th>\n",
              "      <th>Crown diameter WE  (m)</th>\n",
              "      <th>Crown area (square m)</th>\n",
              "      <th>average canopy diameter</th>\n",
              "      <th>canopy radius</th>\n",
              "      <th>Primary Stems</th>\n",
              "      <th>Wood density</th>\n",
              "    </tr>\n",
              "  </thead>\n",
              "  <tbody>\n",
              "    <tr>\n",
              "      <th>0</th>\n",
              "      <td>214.813165</td>\n",
              "      <td>16</td>\n",
              "      <td>312</td>\n",
              "      <td>25.471</td>\n",
              "      <td>19.735</td>\n",
              "      <td>256.000</td>\n",
              "      <td>272</td>\n",
              "      <td>2.95</td>\n",
              "      <td>5.528</td>\n",
              "      <td>137.475</td>\n",
              "      <td>68.7375</td>\n",
              "      <td>5</td>\n",
              "      <td>990</td>\n",
              "    </tr>\n",
              "    <tr>\n",
              "      <th>1</th>\n",
              "      <td>55.462175</td>\n",
              "      <td>16</td>\n",
              "      <td>300</td>\n",
              "      <td>15.597</td>\n",
              "      <td>5.093</td>\n",
              "      <td>170.667</td>\n",
              "      <td>238</td>\n",
              "      <td>317.00</td>\n",
              "      <td>7.439</td>\n",
              "      <td>277.500</td>\n",
              "      <td>138.7500</td>\n",
              "      <td>9</td>\n",
              "      <td>970</td>\n",
              "    </tr>\n",
              "    <tr>\n",
              "      <th>2</th>\n",
              "      <td>13.058309</td>\n",
              "      <td>16</td>\n",
              "      <td>366</td>\n",
              "      <td>9.237</td>\n",
              "      <td>26.101</td>\n",
              "      <td>286.500</td>\n",
              "      <td>362</td>\n",
              "      <td>342.00</td>\n",
              "      <td>15.841</td>\n",
              "      <td>352.000</td>\n",
              "      <td>176.0000</td>\n",
              "      <td>7</td>\n",
              "      <td>960</td>\n",
              "    </tr>\n",
              "    <tr>\n",
              "      <th>3</th>\n",
              "      <td>0.596283</td>\n",
              "      <td>2</td>\n",
              "      <td>120</td>\n",
              "      <td>3.020</td>\n",
              "      <td>2.182</td>\n",
              "      <td>81.000</td>\n",
              "      <td>88</td>\n",
              "      <td>134.00</td>\n",
              "      <td>1.412</td>\n",
              "      <td>111.000</td>\n",
              "      <td>55.5000</td>\n",
              "      <td>3</td>\n",
              "      <td>300</td>\n",
              "    </tr>\n",
              "    <tr>\n",
              "      <th>4</th>\n",
              "      <td>0.353901</td>\n",
              "      <td>2</td>\n",
              "      <td>119</td>\n",
              "      <td>2.500</td>\n",
              "      <td>2.059</td>\n",
              "      <td>72.000</td>\n",
              "      <td>80</td>\n",
              "      <td>52.00</td>\n",
              "      <td>0.746</td>\n",
              "      <td>66.000</td>\n",
              "      <td>33.0000</td>\n",
              "      <td>2</td>\n",
              "      <td>311</td>\n",
              "    </tr>\n",
              "  </tbody>\n",
              "</table>\n",
              "</div>\n",
              "      <button class=\"colab-df-convert\" onclick=\"convertToInteractive('df-18545fe7-3613-4f5d-bd4e-9d55206113f5')\"\n",
              "              title=\"Convert this dataframe to an interactive table.\"\n",
              "              style=\"display:none;\">\n",
              "        \n",
              "  <svg xmlns=\"http://www.w3.org/2000/svg\" height=\"24px\"viewBox=\"0 0 24 24\"\n",
              "       width=\"24px\">\n",
              "    <path d=\"M0 0h24v24H0V0z\" fill=\"none\"/>\n",
              "    <path d=\"M18.56 5.44l.94 2.06.94-2.06 2.06-.94-2.06-.94-.94-2.06-.94 2.06-2.06.94zm-11 1L8.5 8.5l.94-2.06 2.06-.94-2.06-.94L8.5 2.5l-.94 2.06-2.06.94zm10 10l.94 2.06.94-2.06 2.06-.94-2.06-.94-.94-2.06-.94 2.06-2.06.94z\"/><path d=\"M17.41 7.96l-1.37-1.37c-.4-.4-.92-.59-1.43-.59-.52 0-1.04.2-1.43.59L10.3 9.45l-7.72 7.72c-.78.78-.78 2.05 0 2.83L4 21.41c.39.39.9.59 1.41.59.51 0 1.02-.2 1.41-.59l7.78-7.78 2.81-2.81c.8-.78.8-2.07 0-2.86zM5.41 20L4 18.59l7.72-7.72 1.47 1.35L5.41 20z\"/>\n",
              "  </svg>\n",
              "      </button>\n",
              "      \n",
              "  <style>\n",
              "    .colab-df-container {\n",
              "      display:flex;\n",
              "      flex-wrap:wrap;\n",
              "      gap: 12px;\n",
              "    }\n",
              "\n",
              "    .colab-df-convert {\n",
              "      background-color: #E8F0FE;\n",
              "      border: none;\n",
              "      border-radius: 50%;\n",
              "      cursor: pointer;\n",
              "      display: none;\n",
              "      fill: #1967D2;\n",
              "      height: 32px;\n",
              "      padding: 0 0 0 0;\n",
              "      width: 32px;\n",
              "    }\n",
              "\n",
              "    .colab-df-convert:hover {\n",
              "      background-color: #E2EBFA;\n",
              "      box-shadow: 0px 1px 2px rgba(60, 64, 67, 0.3), 0px 1px 3px 1px rgba(60, 64, 67, 0.15);\n",
              "      fill: #174EA6;\n",
              "    }\n",
              "\n",
              "    [theme=dark] .colab-df-convert {\n",
              "      background-color: #3B4455;\n",
              "      fill: #D2E3FC;\n",
              "    }\n",
              "\n",
              "    [theme=dark] .colab-df-convert:hover {\n",
              "      background-color: #434B5C;\n",
              "      box-shadow: 0px 1px 3px 1px rgba(0, 0, 0, 0.15);\n",
              "      filter: drop-shadow(0px 1px 2px rgba(0, 0, 0, 0.3));\n",
              "      fill: #FFFFFF;\n",
              "    }\n",
              "  </style>\n",
              "\n",
              "      <script>\n",
              "        const buttonEl =\n",
              "          document.querySelector('#df-18545fe7-3613-4f5d-bd4e-9d55206113f5 button.colab-df-convert');\n",
              "        buttonEl.style.display =\n",
              "          google.colab.kernel.accessAllowed ? 'block' : 'none';\n",
              "\n",
              "        async function convertToInteractive(key) {\n",
              "          const element = document.querySelector('#df-18545fe7-3613-4f5d-bd4e-9d55206113f5');\n",
              "          const dataTable =\n",
              "            await google.colab.kernel.invokeFunction('convertToInteractive',\n",
              "                                                     [key], {});\n",
              "          if (!dataTable) return;\n",
              "\n",
              "          const docLinkHtml = 'Like what you see? Visit the ' +\n",
              "            '<a target=\"_blank\" href=https://colab.research.google.com/notebooks/data_table.ipynb>data table notebook</a>'\n",
              "            + ' to learn more about interactive tables.';\n",
              "          element.innerHTML = '';\n",
              "          dataTable['output_type'] = 'display_data';\n",
              "          await google.colab.output.renderOutput(dataTable, element);\n",
              "          const docLink = document.createElement('div');\n",
              "          docLink.innerHTML = docLinkHtml;\n",
              "          element.appendChild(docLink);\n",
              "        }\n",
              "      </script>\n",
              "    </div>\n",
              "  </div>\n",
              "  "
            ]
          },
          "metadata": {},
          "execution_count": 3
        }
      ],
      "source": [
        "df.head()\n",
        "#our first step is to collect data and this is our all data that is shown below."
      ]
    },
    {
      "cell_type": "code",
      "execution_count": 4,
      "metadata": {
        "colab": {
          "base_uri": "https://localhost:8080/"
        },
        "id": "gSoMNw1xF8U9",
        "outputId": "b28ba1fd-d1c1-4539-d15a-00631072ffb4"
      },
      "outputs": [
        {
          "output_type": "execute_result",
          "data": {
            "text/plain": [
              "(9, 13)"
            ]
          },
          "metadata": {},
          "execution_count": 4
        }
      ],
      "source": [
        "df.shape\n",
        "#our data has 13 columns and 9 rows"
      ]
    },
    {
      "cell_type": "code",
      "execution_count": 5,
      "metadata": {
        "colab": {
          "base_uri": "https://localhost:8080/"
        },
        "id": "ALf78-vvF96o",
        "outputId": "c98ae817-bb7a-4103-db98-61e67a4f9bb4"
      },
      "outputs": [
        {
          "output_type": "execute_result",
          "data": {
            "text/plain": [
              "totBM                      0\n",
              "Age (y)                    0\n",
              "height (cm)                0\n",
              "BD (cm)                    0\n",
              "D10 (cm)                   0\n",
              "Canopy height (cm)         0\n",
              "Crown diameter NS (cm)     0\n",
              "Crown diameter WE  (m)     0\n",
              "Crown area (square m)      0\n",
              "average canopy diameter    0\n",
              "canopy radius              0\n",
              "Primary Stems              0\n",
              "Wood density               0\n",
              "dtype: int64"
            ]
          },
          "metadata": {},
          "execution_count": 5
        }
      ],
      "source": [
        "df.isnull().sum()\n",
        "# There is nothing such missing values in our data"
      ]
    },
    {
      "cell_type": "code",
      "execution_count": 6,
      "metadata": {
        "colab": {
          "base_uri": "https://localhost:8080/"
        },
        "id": "VvSb954gHYZQ",
        "outputId": "63e2e291-1476-4b48-f88f-f381a427423a"
      },
      "outputs": [
        {
          "output_type": "stream",
          "name": "stdout",
          "text": [
            "<class 'pandas.core.frame.DataFrame'>\n",
            "RangeIndex: 9 entries, 0 to 8\n",
            "Data columns (total 13 columns):\n",
            " #   Column                   Non-Null Count  Dtype  \n",
            "---  ------                   --------------  -----  \n",
            " 0   totBM                    9 non-null      float64\n",
            " 1   Age (y)                  9 non-null      int64  \n",
            " 2   height (cm)              9 non-null      int64  \n",
            " 3   BD (cm)                  9 non-null      float64\n",
            " 4   D10 (cm)                 9 non-null      float64\n",
            " 5   Canopy height (cm)       9 non-null      float64\n",
            " 6   Crown diameter NS (cm)   9 non-null      int64  \n",
            " 7   Crown diameter WE  (m)   9 non-null      float64\n",
            " 8   Crown area (square m)    9 non-null      float64\n",
            " 9   average canopy diameter  9 non-null      float64\n",
            " 10  canopy radius            9 non-null      float64\n",
            " 11  Primary Stems            9 non-null      int64  \n",
            " 12  Wood density             9 non-null      int64  \n",
            "dtypes: float64(8), int64(5)\n",
            "memory usage: 1.0 KB\n"
          ]
        }
      ],
      "source": [
        "df.info()"
      ]
    },
    {
      "cell_type": "code",
      "execution_count": 7,
      "metadata": {
        "colab": {
          "base_uri": "https://localhost:8080/",
          "height": 396
        },
        "id": "jFNhWWavGjuw",
        "outputId": "2b3ed19d-685f-4fc0-e906-03828dd36106"
      },
      "outputs": [
        {
          "output_type": "execute_result",
          "data": {
            "text/plain": [
              "            totBM    Age (y)  height (cm)    BD (cm)   D10 (cm)  \\\n",
              "count    9.000000   9.000000     9.000000   9.000000   9.000000   \n",
              "mean    34.295161   7.666667   210.777778   8.926667   8.123000   \n",
              "std     69.900376   6.383573    92.174804   7.529081   8.662502   \n",
              "min      0.350783   2.000000   119.000000   2.492000   2.059000   \n",
              "25%      0.596283   2.000000   128.000000   3.020000   2.182000   \n",
              "50%      5.095667   5.000000   184.000000   6.569000   5.093000   \n",
              "75%     15.667345  16.000000   300.000000   9.867000   5.705000   \n",
              "max    214.813165  16.000000   366.000000  25.471000  26.101000   \n",
              "\n",
              "       Canopy height (cm)  Crown diameter NS (cm)  Crown diameter WE  (m)  \\\n",
              "count            9.000000                9.000000                9.000000   \n",
              "mean           160.907444              175.444444              151.661111   \n",
              "std             72.876285               97.720406              112.832214   \n",
              "min             72.000000               76.000000                2.950000   \n",
              "25%            105.000000               88.000000               82.000000   \n",
              "50%            154.000000              152.000000              134.000000   \n",
              "75%            170.667000              238.000000              158.000000   \n",
              "max            286.500000              362.000000              342.000000   \n",
              "\n",
              "       Crown area (square m)  average canopy diameter  canopy radius  \\\n",
              "count               9.000000                 9.000000       9.000000   \n",
              "mean                4.834889               163.552778      81.776389   \n",
              "std                 4.657225                93.365562      46.682781   \n",
              "min                 0.746000                66.000000      33.000000   \n",
              "25%                 1.412000               111.000000      55.500000   \n",
              "50%                 3.749000               137.475000      68.737500   \n",
              "75%                 5.528000               163.000000      81.500000   \n",
              "max                15.841000               352.000000     176.000000   \n",
              "\n",
              "       Primary Stems  Wood density  \n",
              "count            9.0      9.000000  \n",
              "mean             4.0    440.888889  \n",
              "std              2.5    414.910064  \n",
              "min              2.0     40.000000  \n",
              "25%              2.0     50.000000  \n",
              "50%              3.0    302.000000  \n",
              "75%              5.0    960.000000  \n",
              "max              9.0    990.000000  "
            ],
            "text/html": [
              "\n",
              "  <div id=\"df-32c6cb56-233f-43da-9a62-fc07e3ee1565\">\n",
              "    <div class=\"colab-df-container\">\n",
              "      <div>\n",
              "<style scoped>\n",
              "    .dataframe tbody tr th:only-of-type {\n",
              "        vertical-align: middle;\n",
              "    }\n",
              "\n",
              "    .dataframe tbody tr th {\n",
              "        vertical-align: top;\n",
              "    }\n",
              "\n",
              "    .dataframe thead th {\n",
              "        text-align: right;\n",
              "    }\n",
              "</style>\n",
              "<table border=\"1\" class=\"dataframe\">\n",
              "  <thead>\n",
              "    <tr style=\"text-align: right;\">\n",
              "      <th></th>\n",
              "      <th>totBM</th>\n",
              "      <th>Age (y)</th>\n",
              "      <th>height (cm)</th>\n",
              "      <th>BD (cm)</th>\n",
              "      <th>D10 (cm)</th>\n",
              "      <th>Canopy height (cm)</th>\n",
              "      <th>Crown diameter NS (cm)</th>\n",
              "      <th>Crown diameter WE  (m)</th>\n",
              "      <th>Crown area (square m)</th>\n",
              "      <th>average canopy diameter</th>\n",
              "      <th>canopy radius</th>\n",
              "      <th>Primary Stems</th>\n",
              "      <th>Wood density</th>\n",
              "    </tr>\n",
              "  </thead>\n",
              "  <tbody>\n",
              "    <tr>\n",
              "      <th>count</th>\n",
              "      <td>9.000000</td>\n",
              "      <td>9.000000</td>\n",
              "      <td>9.000000</td>\n",
              "      <td>9.000000</td>\n",
              "      <td>9.000000</td>\n",
              "      <td>9.000000</td>\n",
              "      <td>9.000000</td>\n",
              "      <td>9.000000</td>\n",
              "      <td>9.000000</td>\n",
              "      <td>9.000000</td>\n",
              "      <td>9.000000</td>\n",
              "      <td>9.0</td>\n",
              "      <td>9.000000</td>\n",
              "    </tr>\n",
              "    <tr>\n",
              "      <th>mean</th>\n",
              "      <td>34.295161</td>\n",
              "      <td>7.666667</td>\n",
              "      <td>210.777778</td>\n",
              "      <td>8.926667</td>\n",
              "      <td>8.123000</td>\n",
              "      <td>160.907444</td>\n",
              "      <td>175.444444</td>\n",
              "      <td>151.661111</td>\n",
              "      <td>4.834889</td>\n",
              "      <td>163.552778</td>\n",
              "      <td>81.776389</td>\n",
              "      <td>4.0</td>\n",
              "      <td>440.888889</td>\n",
              "    </tr>\n",
              "    <tr>\n",
              "      <th>std</th>\n",
              "      <td>69.900376</td>\n",
              "      <td>6.383573</td>\n",
              "      <td>92.174804</td>\n",
              "      <td>7.529081</td>\n",
              "      <td>8.662502</td>\n",
              "      <td>72.876285</td>\n",
              "      <td>97.720406</td>\n",
              "      <td>112.832214</td>\n",
              "      <td>4.657225</td>\n",
              "      <td>93.365562</td>\n",
              "      <td>46.682781</td>\n",
              "      <td>2.5</td>\n",
              "      <td>414.910064</td>\n",
              "    </tr>\n",
              "    <tr>\n",
              "      <th>min</th>\n",
              "      <td>0.350783</td>\n",
              "      <td>2.000000</td>\n",
              "      <td>119.000000</td>\n",
              "      <td>2.492000</td>\n",
              "      <td>2.059000</td>\n",
              "      <td>72.000000</td>\n",
              "      <td>76.000000</td>\n",
              "      <td>2.950000</td>\n",
              "      <td>0.746000</td>\n",
              "      <td>66.000000</td>\n",
              "      <td>33.000000</td>\n",
              "      <td>2.0</td>\n",
              "      <td>40.000000</td>\n",
              "    </tr>\n",
              "    <tr>\n",
              "      <th>25%</th>\n",
              "      <td>0.596283</td>\n",
              "      <td>2.000000</td>\n",
              "      <td>128.000000</td>\n",
              "      <td>3.020000</td>\n",
              "      <td>2.182000</td>\n",
              "      <td>105.000000</td>\n",
              "      <td>88.000000</td>\n",
              "      <td>82.000000</td>\n",
              "      <td>1.412000</td>\n",
              "      <td>111.000000</td>\n",
              "      <td>55.500000</td>\n",
              "      <td>2.0</td>\n",
              "      <td>50.000000</td>\n",
              "    </tr>\n",
              "    <tr>\n",
              "      <th>50%</th>\n",
              "      <td>5.095667</td>\n",
              "      <td>5.000000</td>\n",
              "      <td>184.000000</td>\n",
              "      <td>6.569000</td>\n",
              "      <td>5.093000</td>\n",
              "      <td>154.000000</td>\n",
              "      <td>152.000000</td>\n",
              "      <td>134.000000</td>\n",
              "      <td>3.749000</td>\n",
              "      <td>137.475000</td>\n",
              "      <td>68.737500</td>\n",
              "      <td>3.0</td>\n",
              "      <td>302.000000</td>\n",
              "    </tr>\n",
              "    <tr>\n",
              "      <th>75%</th>\n",
              "      <td>15.667345</td>\n",
              "      <td>16.000000</td>\n",
              "      <td>300.000000</td>\n",
              "      <td>9.867000</td>\n",
              "      <td>5.705000</td>\n",
              "      <td>170.667000</td>\n",
              "      <td>238.000000</td>\n",
              "      <td>158.000000</td>\n",
              "      <td>5.528000</td>\n",
              "      <td>163.000000</td>\n",
              "      <td>81.500000</td>\n",
              "      <td>5.0</td>\n",
              "      <td>960.000000</td>\n",
              "    </tr>\n",
              "    <tr>\n",
              "      <th>max</th>\n",
              "      <td>214.813165</td>\n",
              "      <td>16.000000</td>\n",
              "      <td>366.000000</td>\n",
              "      <td>25.471000</td>\n",
              "      <td>26.101000</td>\n",
              "      <td>286.500000</td>\n",
              "      <td>362.000000</td>\n",
              "      <td>342.000000</td>\n",
              "      <td>15.841000</td>\n",
              "      <td>352.000000</td>\n",
              "      <td>176.000000</td>\n",
              "      <td>9.0</td>\n",
              "      <td>990.000000</td>\n",
              "    </tr>\n",
              "  </tbody>\n",
              "</table>\n",
              "</div>\n",
              "      <button class=\"colab-df-convert\" onclick=\"convertToInteractive('df-32c6cb56-233f-43da-9a62-fc07e3ee1565')\"\n",
              "              title=\"Convert this dataframe to an interactive table.\"\n",
              "              style=\"display:none;\">\n",
              "        \n",
              "  <svg xmlns=\"http://www.w3.org/2000/svg\" height=\"24px\"viewBox=\"0 0 24 24\"\n",
              "       width=\"24px\">\n",
              "    <path d=\"M0 0h24v24H0V0z\" fill=\"none\"/>\n",
              "    <path d=\"M18.56 5.44l.94 2.06.94-2.06 2.06-.94-2.06-.94-.94-2.06-.94 2.06-2.06.94zm-11 1L8.5 8.5l.94-2.06 2.06-.94-2.06-.94L8.5 2.5l-.94 2.06-2.06.94zm10 10l.94 2.06.94-2.06 2.06-.94-2.06-.94-.94-2.06-.94 2.06-2.06.94z\"/><path d=\"M17.41 7.96l-1.37-1.37c-.4-.4-.92-.59-1.43-.59-.52 0-1.04.2-1.43.59L10.3 9.45l-7.72 7.72c-.78.78-.78 2.05 0 2.83L4 21.41c.39.39.9.59 1.41.59.51 0 1.02-.2 1.41-.59l7.78-7.78 2.81-2.81c.8-.78.8-2.07 0-2.86zM5.41 20L4 18.59l7.72-7.72 1.47 1.35L5.41 20z\"/>\n",
              "  </svg>\n",
              "      </button>\n",
              "      \n",
              "  <style>\n",
              "    .colab-df-container {\n",
              "      display:flex;\n",
              "      flex-wrap:wrap;\n",
              "      gap: 12px;\n",
              "    }\n",
              "\n",
              "    .colab-df-convert {\n",
              "      background-color: #E8F0FE;\n",
              "      border: none;\n",
              "      border-radius: 50%;\n",
              "      cursor: pointer;\n",
              "      display: none;\n",
              "      fill: #1967D2;\n",
              "      height: 32px;\n",
              "      padding: 0 0 0 0;\n",
              "      width: 32px;\n",
              "    }\n",
              "\n",
              "    .colab-df-convert:hover {\n",
              "      background-color: #E2EBFA;\n",
              "      box-shadow: 0px 1px 2px rgba(60, 64, 67, 0.3), 0px 1px 3px 1px rgba(60, 64, 67, 0.15);\n",
              "      fill: #174EA6;\n",
              "    }\n",
              "\n",
              "    [theme=dark] .colab-df-convert {\n",
              "      background-color: #3B4455;\n",
              "      fill: #D2E3FC;\n",
              "    }\n",
              "\n",
              "    [theme=dark] .colab-df-convert:hover {\n",
              "      background-color: #434B5C;\n",
              "      box-shadow: 0px 1px 3px 1px rgba(0, 0, 0, 0.15);\n",
              "      filter: drop-shadow(0px 1px 2px rgba(0, 0, 0, 0.3));\n",
              "      fill: #FFFFFF;\n",
              "    }\n",
              "  </style>\n",
              "\n",
              "      <script>\n",
              "        const buttonEl =\n",
              "          document.querySelector('#df-32c6cb56-233f-43da-9a62-fc07e3ee1565 button.colab-df-convert');\n",
              "        buttonEl.style.display =\n",
              "          google.colab.kernel.accessAllowed ? 'block' : 'none';\n",
              "\n",
              "        async function convertToInteractive(key) {\n",
              "          const element = document.querySelector('#df-32c6cb56-233f-43da-9a62-fc07e3ee1565');\n",
              "          const dataTable =\n",
              "            await google.colab.kernel.invokeFunction('convertToInteractive',\n",
              "                                                     [key], {});\n",
              "          if (!dataTable) return;\n",
              "\n",
              "          const docLinkHtml = 'Like what you see? Visit the ' +\n",
              "            '<a target=\"_blank\" href=https://colab.research.google.com/notebooks/data_table.ipynb>data table notebook</a>'\n",
              "            + ' to learn more about interactive tables.';\n",
              "          element.innerHTML = '';\n",
              "          dataTable['output_type'] = 'display_data';\n",
              "          await google.colab.output.renderOutput(dataTable, element);\n",
              "          const docLink = document.createElement('div');\n",
              "          docLink.innerHTML = docLinkHtml;\n",
              "          element.appendChild(docLink);\n",
              "        }\n",
              "      </script>\n",
              "    </div>\n",
              "  </div>\n",
              "  "
            ]
          },
          "metadata": {},
          "execution_count": 7
        }
      ],
      "source": [
        "df.describe()\n",
        "# This is the statistical summary of our numerical columns in data."
      ]
    },
    {
      "cell_type": "code",
      "execution_count": 8,
      "metadata": {
        "colab": {
          "base_uri": "https://localhost:8080/"
        },
        "id": "AumEdrN9Gjqi",
        "outputId": "5b422a05-21ef-4e51-ccd7-2fab6aa25ba4"
      },
      "outputs": [
        {
          "output_type": "execute_result",
          "data": {
            "text/plain": [
              "totBM                      2.684393\n",
              "Age (y)                    0.700198\n",
              "height (cm)                0.685678\n",
              "BD (cm)                    1.520449\n",
              "D10 (cm)                   1.637615\n",
              "Canopy height (cm)         0.603743\n",
              "Crown diameter NS (cm)     0.872422\n",
              "Crown diameter WE  (m)     0.756552\n",
              "Crown area (square m)      1.897524\n",
              "average canopy diameter    1.271854\n",
              "canopy radius              1.271854\n",
              "Primary Stems              1.296000\n",
              "Wood density               0.584383\n",
              "dtype: float64"
            ]
          },
          "metadata": {},
          "execution_count": 8
        }
      ],
      "source": [
        "df.skew()"
      ]
    },
    {
      "cell_type": "code",
      "execution_count": 9,
      "metadata": {
        "id": "N_Inn573GjmQ"
      },
      "outputs": [],
      "source": [
        "# Our most of columns is in cm scale so i convert Crown diameter WE (m)\t, Crown area (square m)\tmetre to cm using python\n",
        "\n",
        "# Convert the 'Crown diameter WE (m)', 'Crown area (square m)'column to centimeters\n",
        "df['Crown diameter WE  (cm)']=df['Crown diameter WE  (m)'] * 100\n",
        "df['Crown area (square cm)'] = df['Crown area (square m)'] * 100"
      ]
    },
    {
      "cell_type": "code",
      "execution_count": 10,
      "metadata": {
        "id": "7cxszzsbGjhL"
      },
      "outputs": [],
      "source": [
        "# now droping above two columns which was in metre format\n",
        "df=df.drop(['Crown diameter WE  (m)','Crown area (square m)'],axis=1)"
      ]
    },
    {
      "cell_type": "code",
      "execution_count": 11,
      "metadata": {
        "colab": {
          "base_uri": "https://localhost:8080/",
          "height": 410
        },
        "id": "wWohrcaqGjYS",
        "outputId": "9180c5e9-bdcf-4fca-a3f8-c9abc022f7ef"
      },
      "outputs": [
        {
          "output_type": "execute_result",
          "data": {
            "text/plain": [
              "        totBM  Age (y)  height (cm)  BD (cm)  D10 (cm)  Canopy height (cm)  \\\n",
              "0  214.813165       16          312   25.471    19.735             256.000   \n",
              "1   55.462175       16          300   15.597     5.093             170.667   \n",
              "2   13.058309       16          366    9.237    26.101             286.500   \n",
              "3    0.596283        2          120    3.020     2.182              81.000   \n",
              "4    0.353901        2          119    2.500     2.059              72.000   \n",
              "5    0.350783        2          128    2.492     2.071             105.000   \n",
              "6   15.667345        5          184    9.867     5.201             154.000   \n",
              "7    5.095667        5          185    6.569     4.960             154.000   \n",
              "8    3.258817        5          183    5.587     5.705             169.000   \n",
              "\n",
              "   Crown diameter NS (cm)  average canopy diameter  canopy radius  \\\n",
              "0                     272                  137.475        68.7375   \n",
              "1                     238                  277.500       138.7500   \n",
              "2                     362                  352.000       176.0000   \n",
              "3                      88                  111.000        55.5000   \n",
              "4                      80                   66.000        33.0000   \n",
              "5                      76                   79.000        39.5000   \n",
              "6                     152                  155.000        77.5000   \n",
              "7                     142                  131.000        65.5000   \n",
              "8                     169                  163.000        81.5000   \n",
              "\n",
              "   Primary Stems  Wood density  Crown diameter WE  (cm)  \\\n",
              "0              5           990                    295.0   \n",
              "1              9           970                  31700.0   \n",
              "2              7           960                  34200.0   \n",
              "3              3           300                  13400.0   \n",
              "4              2           311                   5200.0   \n",
              "5              3           302                   8200.0   \n",
              "6              2            50                  15800.0   \n",
              "7              3            45                  12000.0   \n",
              "8              2            40                  15700.0   \n",
              "\n",
              "   Crown area (square cm)  \n",
              "0                   552.8  \n",
              "1                   743.9  \n",
              "2                  1584.1  \n",
              "3                   141.2  \n",
              "4                    74.6  \n",
              "5                   130.3  \n",
              "6                   374.9  \n",
              "7                   316.9  \n",
              "8                   432.7  "
            ],
            "text/html": [
              "\n",
              "  <div id=\"df-c2595da8-a7d1-4795-8818-9640b7111240\">\n",
              "    <div class=\"colab-df-container\">\n",
              "      <div>\n",
              "<style scoped>\n",
              "    .dataframe tbody tr th:only-of-type {\n",
              "        vertical-align: middle;\n",
              "    }\n",
              "\n",
              "    .dataframe tbody tr th {\n",
              "        vertical-align: top;\n",
              "    }\n",
              "\n",
              "    .dataframe thead th {\n",
              "        text-align: right;\n",
              "    }\n",
              "</style>\n",
              "<table border=\"1\" class=\"dataframe\">\n",
              "  <thead>\n",
              "    <tr style=\"text-align: right;\">\n",
              "      <th></th>\n",
              "      <th>totBM</th>\n",
              "      <th>Age (y)</th>\n",
              "      <th>height (cm)</th>\n",
              "      <th>BD (cm)</th>\n",
              "      <th>D10 (cm)</th>\n",
              "      <th>Canopy height (cm)</th>\n",
              "      <th>Crown diameter NS (cm)</th>\n",
              "      <th>average canopy diameter</th>\n",
              "      <th>canopy radius</th>\n",
              "      <th>Primary Stems</th>\n",
              "      <th>Wood density</th>\n",
              "      <th>Crown diameter WE  (cm)</th>\n",
              "      <th>Crown area (square cm)</th>\n",
              "    </tr>\n",
              "  </thead>\n",
              "  <tbody>\n",
              "    <tr>\n",
              "      <th>0</th>\n",
              "      <td>214.813165</td>\n",
              "      <td>16</td>\n",
              "      <td>312</td>\n",
              "      <td>25.471</td>\n",
              "      <td>19.735</td>\n",
              "      <td>256.000</td>\n",
              "      <td>272</td>\n",
              "      <td>137.475</td>\n",
              "      <td>68.7375</td>\n",
              "      <td>5</td>\n",
              "      <td>990</td>\n",
              "      <td>295.0</td>\n",
              "      <td>552.8</td>\n",
              "    </tr>\n",
              "    <tr>\n",
              "      <th>1</th>\n",
              "      <td>55.462175</td>\n",
              "      <td>16</td>\n",
              "      <td>300</td>\n",
              "      <td>15.597</td>\n",
              "      <td>5.093</td>\n",
              "      <td>170.667</td>\n",
              "      <td>238</td>\n",
              "      <td>277.500</td>\n",
              "      <td>138.7500</td>\n",
              "      <td>9</td>\n",
              "      <td>970</td>\n",
              "      <td>31700.0</td>\n",
              "      <td>743.9</td>\n",
              "    </tr>\n",
              "    <tr>\n",
              "      <th>2</th>\n",
              "      <td>13.058309</td>\n",
              "      <td>16</td>\n",
              "      <td>366</td>\n",
              "      <td>9.237</td>\n",
              "      <td>26.101</td>\n",
              "      <td>286.500</td>\n",
              "      <td>362</td>\n",
              "      <td>352.000</td>\n",
              "      <td>176.0000</td>\n",
              "      <td>7</td>\n",
              "      <td>960</td>\n",
              "      <td>34200.0</td>\n",
              "      <td>1584.1</td>\n",
              "    </tr>\n",
              "    <tr>\n",
              "      <th>3</th>\n",
              "      <td>0.596283</td>\n",
              "      <td>2</td>\n",
              "      <td>120</td>\n",
              "      <td>3.020</td>\n",
              "      <td>2.182</td>\n",
              "      <td>81.000</td>\n",
              "      <td>88</td>\n",
              "      <td>111.000</td>\n",
              "      <td>55.5000</td>\n",
              "      <td>3</td>\n",
              "      <td>300</td>\n",
              "      <td>13400.0</td>\n",
              "      <td>141.2</td>\n",
              "    </tr>\n",
              "    <tr>\n",
              "      <th>4</th>\n",
              "      <td>0.353901</td>\n",
              "      <td>2</td>\n",
              "      <td>119</td>\n",
              "      <td>2.500</td>\n",
              "      <td>2.059</td>\n",
              "      <td>72.000</td>\n",
              "      <td>80</td>\n",
              "      <td>66.000</td>\n",
              "      <td>33.0000</td>\n",
              "      <td>2</td>\n",
              "      <td>311</td>\n",
              "      <td>5200.0</td>\n",
              "      <td>74.6</td>\n",
              "    </tr>\n",
              "    <tr>\n",
              "      <th>5</th>\n",
              "      <td>0.350783</td>\n",
              "      <td>2</td>\n",
              "      <td>128</td>\n",
              "      <td>2.492</td>\n",
              "      <td>2.071</td>\n",
              "      <td>105.000</td>\n",
              "      <td>76</td>\n",
              "      <td>79.000</td>\n",
              "      <td>39.5000</td>\n",
              "      <td>3</td>\n",
              "      <td>302</td>\n",
              "      <td>8200.0</td>\n",
              "      <td>130.3</td>\n",
              "    </tr>\n",
              "    <tr>\n",
              "      <th>6</th>\n",
              "      <td>15.667345</td>\n",
              "      <td>5</td>\n",
              "      <td>184</td>\n",
              "      <td>9.867</td>\n",
              "      <td>5.201</td>\n",
              "      <td>154.000</td>\n",
              "      <td>152</td>\n",
              "      <td>155.000</td>\n",
              "      <td>77.5000</td>\n",
              "      <td>2</td>\n",
              "      <td>50</td>\n",
              "      <td>15800.0</td>\n",
              "      <td>374.9</td>\n",
              "    </tr>\n",
              "    <tr>\n",
              "      <th>7</th>\n",
              "      <td>5.095667</td>\n",
              "      <td>5</td>\n",
              "      <td>185</td>\n",
              "      <td>6.569</td>\n",
              "      <td>4.960</td>\n",
              "      <td>154.000</td>\n",
              "      <td>142</td>\n",
              "      <td>131.000</td>\n",
              "      <td>65.5000</td>\n",
              "      <td>3</td>\n",
              "      <td>45</td>\n",
              "      <td>12000.0</td>\n",
              "      <td>316.9</td>\n",
              "    </tr>\n",
              "    <tr>\n",
              "      <th>8</th>\n",
              "      <td>3.258817</td>\n",
              "      <td>5</td>\n",
              "      <td>183</td>\n",
              "      <td>5.587</td>\n",
              "      <td>5.705</td>\n",
              "      <td>169.000</td>\n",
              "      <td>169</td>\n",
              "      <td>163.000</td>\n",
              "      <td>81.5000</td>\n",
              "      <td>2</td>\n",
              "      <td>40</td>\n",
              "      <td>15700.0</td>\n",
              "      <td>432.7</td>\n",
              "    </tr>\n",
              "  </tbody>\n",
              "</table>\n",
              "</div>\n",
              "      <button class=\"colab-df-convert\" onclick=\"convertToInteractive('df-c2595da8-a7d1-4795-8818-9640b7111240')\"\n",
              "              title=\"Convert this dataframe to an interactive table.\"\n",
              "              style=\"display:none;\">\n",
              "        \n",
              "  <svg xmlns=\"http://www.w3.org/2000/svg\" height=\"24px\"viewBox=\"0 0 24 24\"\n",
              "       width=\"24px\">\n",
              "    <path d=\"M0 0h24v24H0V0z\" fill=\"none\"/>\n",
              "    <path d=\"M18.56 5.44l.94 2.06.94-2.06 2.06-.94-2.06-.94-.94-2.06-.94 2.06-2.06.94zm-11 1L8.5 8.5l.94-2.06 2.06-.94-2.06-.94L8.5 2.5l-.94 2.06-2.06.94zm10 10l.94 2.06.94-2.06 2.06-.94-2.06-.94-.94-2.06-.94 2.06-2.06.94z\"/><path d=\"M17.41 7.96l-1.37-1.37c-.4-.4-.92-.59-1.43-.59-.52 0-1.04.2-1.43.59L10.3 9.45l-7.72 7.72c-.78.78-.78 2.05 0 2.83L4 21.41c.39.39.9.59 1.41.59.51 0 1.02-.2 1.41-.59l7.78-7.78 2.81-2.81c.8-.78.8-2.07 0-2.86zM5.41 20L4 18.59l7.72-7.72 1.47 1.35L5.41 20z\"/>\n",
              "  </svg>\n",
              "      </button>\n",
              "      \n",
              "  <style>\n",
              "    .colab-df-container {\n",
              "      display:flex;\n",
              "      flex-wrap:wrap;\n",
              "      gap: 12px;\n",
              "    }\n",
              "\n",
              "    .colab-df-convert {\n",
              "      background-color: #E8F0FE;\n",
              "      border: none;\n",
              "      border-radius: 50%;\n",
              "      cursor: pointer;\n",
              "      display: none;\n",
              "      fill: #1967D2;\n",
              "      height: 32px;\n",
              "      padding: 0 0 0 0;\n",
              "      width: 32px;\n",
              "    }\n",
              "\n",
              "    .colab-df-convert:hover {\n",
              "      background-color: #E2EBFA;\n",
              "      box-shadow: 0px 1px 2px rgba(60, 64, 67, 0.3), 0px 1px 3px 1px rgba(60, 64, 67, 0.15);\n",
              "      fill: #174EA6;\n",
              "    }\n",
              "\n",
              "    [theme=dark] .colab-df-convert {\n",
              "      background-color: #3B4455;\n",
              "      fill: #D2E3FC;\n",
              "    }\n",
              "\n",
              "    [theme=dark] .colab-df-convert:hover {\n",
              "      background-color: #434B5C;\n",
              "      box-shadow: 0px 1px 3px 1px rgba(0, 0, 0, 0.15);\n",
              "      filter: drop-shadow(0px 1px 2px rgba(0, 0, 0, 0.3));\n",
              "      fill: #FFFFFF;\n",
              "    }\n",
              "  </style>\n",
              "\n",
              "      <script>\n",
              "        const buttonEl =\n",
              "          document.querySelector('#df-c2595da8-a7d1-4795-8818-9640b7111240 button.colab-df-convert');\n",
              "        buttonEl.style.display =\n",
              "          google.colab.kernel.accessAllowed ? 'block' : 'none';\n",
              "\n",
              "        async function convertToInteractive(key) {\n",
              "          const element = document.querySelector('#df-c2595da8-a7d1-4795-8818-9640b7111240');\n",
              "          const dataTable =\n",
              "            await google.colab.kernel.invokeFunction('convertToInteractive',\n",
              "                                                     [key], {});\n",
              "          if (!dataTable) return;\n",
              "\n",
              "          const docLinkHtml = 'Like what you see? Visit the ' +\n",
              "            '<a target=\"_blank\" href=https://colab.research.google.com/notebooks/data_table.ipynb>data table notebook</a>'\n",
              "            + ' to learn more about interactive tables.';\n",
              "          element.innerHTML = '';\n",
              "          dataTable['output_type'] = 'display_data';\n",
              "          await google.colab.output.renderOutput(dataTable, element);\n",
              "          const docLink = document.createElement('div');\n",
              "          docLink.innerHTML = docLinkHtml;\n",
              "          element.appendChild(docLink);\n",
              "        }\n",
              "      </script>\n",
              "    </div>\n",
              "  </div>\n",
              "  "
            ]
          },
          "metadata": {},
          "execution_count": 11
        }
      ],
      "source": [
        "df.head(9)"
      ]
    },
    {
      "cell_type": "code",
      "execution_count": 12,
      "metadata": {
        "id": "Ar3en66JGjLo"
      },
      "outputs": [],
      "source": [
        "import matplotlib.pyplot as plt\n",
        "import scipy.stats as stats"
      ]
    },
    {
      "cell_type": "code",
      "execution_count": 13,
      "metadata": {
        "colab": {
          "base_uri": "https://localhost:8080/",
          "height": 601
        },
        "id": "sZ1zC3bkrlEL",
        "outputId": "7acec3a0-990d-40bf-f1aa-e6fd9878d322"
      },
      "outputs": [
        {
          "output_type": "stream",
          "name": "stderr",
          "text": [
            "<ipython-input-13-9593d03d762f>:3: UserWarning: \n",
            "\n",
            "`distplot` is a deprecated function and will be removed in seaborn v0.14.0.\n",
            "\n",
            "Please adapt your code to use either `displot` (a figure-level function with\n",
            "similar flexibility) or `histplot` (an axes-level function for histograms).\n",
            "\n",
            "For a guide to updating your code to use the new functions, please see\n",
            "https://gist.github.com/mwaskom/de44147ed2974457ad6372750bbe5751\n",
            "\n",
            "  sns.distplot(df['totBM'])\n"
          ]
        },
        {
          "output_type": "display_data",
          "data": {
            "text/plain": [
              "<Figure size 1400x400 with 2 Axes>"
            ],
            "image/png": "[encoded data removed]"
          },
          "metadata": {}
        }
      ],
      "source": [
        "plt.figure(figsize=(14,4))\n",
        "plt.subplot(121)\n",
        "sns.distplot(df['totBM'])\n",
        "plt.title('totBM')\n",
        "\n",
        "plt.subplot(122)\n",
        "stats.probplot(df['totBM'], dist=\"norm\", plot=plt)\n",
        "plt.title('totBM QQ Plot')\n",
        "\n",
        "plt.show()\n",
        "#totBM column is non normal"
      ]
    },
    {
      "cell_type": "code",
      "execution_count": 14,
      "metadata": {
        "colab": {
          "base_uri": "https://localhost:8080/",
          "height": 744
        },
        "id": "Jx90YGuRvgEU",
        "outputId": "972a9857-499e-46a6-e34c-58f5eaf3ad23"
      },
      "outputs": [
        {
          "output_type": "execute_result",
          "data": {
            "text/plain": [
              "                            totBM   Age (y)  height (cm)   BD (cm)  D10 (cm)  \\\n",
              "totBM                    1.000000  0.641419     0.542487  0.929088  0.512693   \n",
              "Age (y)                  0.641419  1.000000     0.976865  0.819452  0.782878   \n",
              "height (cm)              0.542487  0.976865     1.000000  0.739382  0.864065   \n",
              "BD (cm)                  0.929088  0.819452     0.739382  1.000000  0.581241   \n",
              "D10 (cm)                 0.512693  0.782878     0.864065  0.581241  1.000000   \n",
              "Canopy height (cm)       0.549478  0.862259     0.933601  0.697840  0.932064   \n",
              "Crown diameter NS (cm)   0.475198  0.931648     0.984069  0.666114  0.911920   \n",
              "average canopy diameter  0.053275  0.785114     0.850931  0.344808  0.662203   \n",
              "canopy radius            0.053275  0.785114     0.850931  0.344808  0.662203   \n",
              "Primary Stems            0.348136  0.869419     0.816384  0.552378  0.510014   \n",
              "Wood density             0.622596  0.887243     0.821639  0.689861  0.693298   \n",
              "Crown diameter WE  (cm) -0.323386  0.492450     0.555973 -0.006263  0.306125   \n",
              "Crown area (square cm)   0.155570  0.800830     0.895507  0.378151  0.849590   \n",
              "\n",
              "                         Canopy height (cm)  Crown diameter NS (cm)  \\\n",
              "totBM                              0.549478                0.475198   \n",
              "Age (y)                            0.862259                0.931648   \n",
              "height (cm)                        0.933601                0.984069   \n",
              "BD (cm)                            0.697840                0.666114   \n",
              "D10 (cm)                           0.932064                0.911920   \n",
              "Canopy height (cm)                 1.000000                0.958293   \n",
              "Crown diameter NS (cm)             0.958293                1.000000   \n",
              "average canopy diameter            0.738135                0.868250   \n",
              "canopy radius                      0.738135                0.868250   \n",
              "Primary Stems                      0.575520                0.736796   \n",
              "Wood density                       0.642167                0.759888   \n",
              "Crown diameter WE  (cm)            0.391625                0.570838   \n",
              "Crown area (square cm)             0.855556                0.936135   \n",
              "\n",
              "                         average canopy diameter  canopy radius  \\\n",
              "totBM                                   0.053275       0.053275   \n",
              "Age (y)                                 0.785114       0.785114   \n",
              "height (cm)                             0.850931       0.850931   \n",
              "BD (cm)                                 0.344808       0.344808   \n",
              "D10 (cm)                                0.662203       0.662203   \n",
              "Canopy height (cm)                      0.738135       0.738135   \n",
              "Crown diameter NS (cm)                  0.868250       0.868250   \n",
              "average canopy diameter                 1.000000       1.000000   \n",
              "canopy radius                           1.000000       1.000000   \n",
              "Primary Stems                           0.798996       0.798996   \n",
              "Wood density                            0.619757       0.619757   \n",
              "Crown diameter WE  (cm)                 0.902981       0.902981   \n",
              "Crown area (square cm)                  0.946911       0.946911   \n",
              "\n",
              "                         Primary Stems  Wood density  Crown diameter WE  (cm)  \\\n",
              "totBM                         0.348136      0.622596                -0.323386   \n",
              "Age (y)                       0.869419      0.887243                 0.492450   \n",
              "height (cm)                   0.816384      0.821639                 0.555973   \n",
              "BD (cm)                       0.552378      0.689861                -0.006263   \n",
              "D10 (cm)                      0.510014      0.693298                 0.306125   \n",
              "Canopy height (cm)            0.575520      0.642167                 0.391625   \n",
              "Crown diameter NS (cm)        0.736796      0.759888                 0.570838   \n",
              "average canopy diameter       0.798996      0.619757                 0.902981   \n",
              "canopy radius                 0.798996      0.619757                 0.902981   \n",
              "Primary Stems                 1.000000      0.876214                 0.684180   \n",
              "Wood density                  0.876214      1.000000                 0.367549   \n",
              "Crown diameter WE  (cm)       0.684180      0.367549                 1.000000   \n",
              "Crown area (square cm)        0.716285      0.663921                 0.756329   \n",
              "\n",
              "                         Crown area (square cm)  \n",
              "totBM                                  0.155570  \n",
              "Age (y)                                0.800830  \n",
              "height (cm)                            0.895507  \n",
              "BD (cm)                                0.378151  \n",
              "D10 (cm)                               0.849590  \n",
              "Canopy height (cm)                     0.855556  \n",
              "Crown diameter NS (cm)                 0.936135  \n",
              "average canopy diameter                0.946911  \n",
              "canopy radius                          0.946911  \n",
              "Primary Stems                          0.716285  \n",
              "Wood density                           0.663921  \n",
              "Crown diameter WE  (cm)                0.756329  \n",
              "Crown area (square cm)                 1.000000  "
            ],
            "text/html": [
              "\n",
              "  <div id=\"df-c746c91e-145c-495a-be44-97a4a51c765e\">\n",
              "    <div class=\"colab-df-container\">\n",
              "      <div>\n",
              "<style scoped>\n",
              "    .dataframe tbody tr th:only-of-type {\n",
              "        vertical-align: middle;\n",
              "    }\n",
              "\n",
              "    .dataframe tbody tr th {\n",
              "        vertical-align: top;\n",
              "    }\n",
              "\n",
              "    .dataframe thead th {\n",
              "        text-align: right;\n",
              "    }\n",
              "</style>\n",
              "<table border=\"1\" class=\"dataframe\">\n",
              "  <thead>\n",
              "    <tr style=\"text-align: right;\">\n",
              "      <th></th>\n",
              "      <th>totBM</th>\n",
              "      <th>Age (y)</th>\n",
              "      <th>height (cm)</th>\n",
              "      <th>BD (cm)</th>\n",
              "      <th>D10 (cm)</th>\n",
              "      <th>Canopy height (cm)</th>\n",
              "      <th>Crown diameter NS (cm)</th>\n",
              "      <th>average canopy diameter</th>\n",
              "      <th>canopy radius</th>\n",
              "      <th>Primary Stems</th>\n",
              "      <th>Wood density</th>\n",
              "      <th>Crown diameter WE  (cm)</th>\n",
              "      <th>Crown area (square cm)</th>\n",
              "    </tr>\n",
              "  </thead>\n",
              "  <tbody>\n",
              "    <tr>\n",
              "      <th>totBM</th>\n",
              "      <td>1.000000</td>\n",
              "      <td>0.641419</td>\n",
              "      <td>0.542487</td>\n",
              "      <td>0.929088</td>\n",
              "      <td>0.512693</td>\n",
              "      <td>0.549478</td>\n",
              "      <td>0.475198</td>\n",
              "      <td>0.053275</td>\n",
              "      <td>0.053275</td>\n",
              "      <td>0.348136</td>\n",
              "      <td>0.622596</td>\n",
              "      <td>-0.323386</td>\n",
              "      <td>0.155570</td>\n",
              "    </tr>\n",
              "    <tr>\n",
              "      <th>Age (y)</th>\n",
              "      <td>0.641419</td>\n",
              "      <td>1.000000</td>\n",
              "      <td>0.976865</td>\n",
              "      <td>0.819452</td>\n",
              "      <td>0.782878</td>\n",
              "      <td>0.862259</td>\n",
              "      <td>0.931648</td>\n",
              "      <td>0.785114</td>\n",
              "      <td>0.785114</td>\n",
              "      <td>0.869419</td>\n",
              "      <td>0.887243</td>\n",
              "      <td>0.492450</td>\n",
              "      <td>0.800830</td>\n",
              "    </tr>\n",
              "    <tr>\n",
              "      <th>height (cm)</th>\n",
              "      <td>0.542487</td>\n",
              "      <td>0.976865</td>\n",
              "      <td>1.000000</td>\n",
              "      <td>0.739382</td>\n",
              "      <td>0.864065</td>\n",
              "      <td>0.933601</td>\n",
              "      <td>0.984069</td>\n",
              "      <td>0.850931</td>\n",
              "      <td>0.850931</td>\n",
              "      <td>0.816384</td>\n",
              "      <td>0.821639</td>\n",
              "      <td>0.555973</td>\n",
              "      <td>0.895507</td>\n",
              "    </tr>\n",
              "    <tr>\n",
              "      <th>BD (cm)</th>\n",
              "      <td>0.929088</td>\n",
              "      <td>0.819452</td>\n",
              "      <td>0.739382</td>\n",
              "      <td>1.000000</td>\n",
              "      <td>0.581241</td>\n",
              "      <td>0.697840</td>\n",
              "      <td>0.666114</td>\n",
              "      <td>0.344808</td>\n",
              "      <td>0.344808</td>\n",
              "      <td>0.552378</td>\n",
              "      <td>0.689861</td>\n",
              "      <td>-0.006263</td>\n",
              "      <td>0.378151</td>\n",
              "    </tr>\n",
              "    <tr>\n",
              "      <th>D10 (cm)</th>\n",
              "      <td>0.512693</td>\n",
              "      <td>0.782878</td>\n",
              "      <td>0.864065</td>\n",
              "      <td>0.581241</td>\n",
              "      <td>1.000000</td>\n",
              "      <td>0.932064</td>\n",
              "      <td>0.911920</td>\n",
              "      <td>0.662203</td>\n",
              "      <td>0.662203</td>\n",
              "      <td>0.510014</td>\n",
              "      <td>0.693298</td>\n",
              "      <td>0.306125</td>\n",
              "      <td>0.849590</td>\n",
              "    </tr>\n",
              "    <tr>\n",
              "      <th>Canopy height (cm)</th>\n",
              "      <td>0.549478</td>\n",
              "      <td>0.862259</td>\n",
              "      <td>0.933601</td>\n",
              "      <td>0.697840</td>\n",
              "      <td>0.932064</td>\n",
              "      <td>1.000000</td>\n",
              "      <td>0.958293</td>\n",
              "      <td>0.738135</td>\n",
              "      <td>0.738135</td>\n",
              "      <td>0.575520</td>\n",
              "      <td>0.642167</td>\n",
              "      <td>0.391625</td>\n",
              "      <td>0.855556</td>\n",
              "    </tr>\n",
              "    <tr>\n",
              "      <th>Crown diameter NS (cm)</th>\n",
              "      <td>0.475198</td>\n",
              "      <td>0.931648</td>\n",
              "      <td>0.984069</td>\n",
              "      <td>0.666114</td>\n",
              "      <td>0.911920</td>\n",
              "      <td>0.958293</td>\n",
              "      <td>1.000000</td>\n",
              "      <td>0.868250</td>\n",
              "      <td>0.868250</td>\n",
              "      <td>0.736796</td>\n",
              "      <td>0.759888</td>\n",
              "      <td>0.570838</td>\n",
              "      <td>0.936135</td>\n",
              "    </tr>\n",
              "    <tr>\n",
              "      <th>average canopy diameter</th>\n",
              "      <td>0.053275</td>\n",
              "      <td>0.785114</td>\n",
              "      <td>0.850931</td>\n",
              "      <td>0.344808</td>\n",
              "      <td>0.662203</td>\n",
              "      <td>0.738135</td>\n",
              "      <td>0.868250</td>\n",
              "      <td>1.000000</td>\n",
              "      <td>1.000000</td>\n",
              "      <td>0.798996</td>\n",
              "      <td>0.619757</td>\n",
              "      <td>0.902981</td>\n",
              "      <td>0.946911</td>\n",
              "    </tr>\n",
              "    <tr>\n",
              "      <th>canopy radius</th>\n",
              "      <td>0.053275</td>\n",
              "      <td>0.785114</td>\n",
              "      <td>0.850931</td>\n",
              "      <td>0.344808</td>\n",
              "      <td>0.662203</td>\n",
              "      <td>0.738135</td>\n",
              "      <td>0.868250</td>\n",
              "      <td>1.000000</td>\n",
              "      <td>1.000000</td>\n",
              "      <td>0.798996</td>\n",
              "      <td>0.619757</td>\n",
              "      <td>0.902981</td>\n",
              "      <td>0.946911</td>\n",
              "    </tr>\n",
              "    <tr>\n",
              "      <th>Primary Stems</th>\n",
              "      <td>0.348136</td>\n",
              "      <td>0.869419</td>\n",
              "      <td>0.816384</td>\n",
              "      <td>0.552378</td>\n",
              "      <td>0.510014</td>\n",
              "      <td>0.575520</td>\n",
              "      <td>0.736796</td>\n",
              "      <td>0.798996</td>\n",
              "      <td>0.798996</td>\n",
              "      <td>1.000000</td>\n",
              "      <td>0.876214</td>\n",
              "      <td>0.684180</td>\n",
              "      <td>0.716285</td>\n",
              "    </tr>\n",
              "    <tr>\n",
              "      <th>Wood density</th>\n",
              "      <td>0.622596</td>\n",
              "      <td>0.887243</td>\n",
              "      <td>0.821639</td>\n",
              "      <td>0.689861</td>\n",
              "      <td>0.693298</td>\n",
              "      <td>0.642167</td>\n",
              "      <td>0.759888</td>\n",
              "      <td>0.619757</td>\n",
              "      <td>0.619757</td>\n",
              "      <td>0.876214</td>\n",
              "      <td>1.000000</td>\n",
              "      <td>0.367549</td>\n",
              "      <td>0.663921</td>\n",
              "    </tr>\n",
              "    <tr>\n",
              "      <th>Crown diameter WE  (cm)</th>\n",
              "      <td>-0.323386</td>\n",
              "      <td>0.492450</td>\n",
              "      <td>0.555973</td>\n",
              "      <td>-0.006263</td>\n",
              "      <td>0.306125</td>\n",
              "      <td>0.391625</td>\n",
              "      <td>0.570838</td>\n",
              "      <td>0.902981</td>\n",
              "      <td>0.902981</td>\n",
              "      <td>0.684180</td>\n",
              "      <td>0.367549</td>\n",
              "      <td>1.000000</td>\n",
              "      <td>0.756329</td>\n",
              "    </tr>\n",
              "    <tr>\n",
              "      <th>Crown area (square cm)</th>\n",
              "      <td>0.155570</td>\n",
              "      <td>0.800830</td>\n",
              "      <td>0.895507</td>\n",
              "      <td>0.378151</td>\n",
              "      <td>0.849590</td>\n",
              "      <td>0.855556</td>\n",
              "      <td>0.936135</td>\n",
              "      <td>0.946911</td>\n",
              "      <td>0.946911</td>\n",
              "      <td>0.716285</td>\n",
              "      <td>0.663921</td>\n",
              "      <td>0.756329</td>\n",
              "      <td>1.000000</td>\n",
              "    </tr>\n",
              "  </tbody>\n",
              "</table>\n",
              "</div>\n",
              "      <button class=\"colab-df-convert\" onclick=\"convertToInteractive('df-c746c91e-145c-495a-be44-97a4a51c765e')\"\n",
              "              title=\"Convert this dataframe to an interactive table.\"\n",
              "              style=\"display:none;\">\n",
              "        \n",
              "  <svg xmlns=\"http://www.w3.org/2000/svg\" height=\"24px\"viewBox=\"0 0 24 24\"\n",
              "       width=\"24px\">\n",
              "    <path d=\"M0 0h24v24H0V0z\" fill=\"none\"/>\n",
              "    <path d=\"M18.56 5.44l.94 2.06.94-2.06 2.06-.94-2.06-.94-.94-2.06-.94 2.06-2.06.94zm-11 1L8.5 8.5l.94-2.06 2.06-.94-2.06-.94L8.5 2.5l-.94 2.06-2.06.94zm10 10l.94 2.06.94-2.06 2.06-.94-2.06-.94-.94-2.06-.94 2.06-2.06.94z\"/><path d=\"M17.41 7.96l-1.37-1.37c-.4-.4-.92-.59-1.43-.59-.52 0-1.04.2-1.43.59L10.3 9.45l-7.72 7.72c-.78.78-.78 2.05 0 2.83L4 21.41c.39.39.9.59 1.41.59.51 0 1.02-.2 1.41-.59l7.78-7.78 2.81-2.81c.8-.78.8-2.07 0-2.86zM5.41 20L4 18.59l7.72-7.72 1.47 1.35L5.41 20z\"/>\n",
              "  </svg>\n",
              "      </button>\n",
              "      \n",
              "  <style>\n",
              "    .colab-df-container {\n",
              "      display:flex;\n",
              "      flex-wrap:wrap;\n",
              "      gap: 12px;\n",
              "    }\n",
              "\n",
              "    .colab-df-convert {\n",
              "      background-color: #E8F0FE;\n",
              "      border: none;\n",
              "      border-radius: 50%;\n",
              "      cursor: pointer;\n",
              "      display: none;\n",
              "      fill: #1967D2;\n",
              "      height: 32px;\n",
              "      padding: 0 0 0 0;\n",
              "      width: 32px;\n",
              "    }\n",
              "\n",
              "    .colab-df-convert:hover {\n",
              "      background-color: #E2EBFA;\n",
              "      box-shadow: 0px 1px 2px rgba(60, 64, 67, 0.3), 0px 1px 3px 1px rgba(60, 64, 67, 0.15);\n",
              "      fill: #174EA6;\n",
              "    }\n",
              "\n",
              "    [theme=dark] .colab-df-convert {\n",
              "      background-color: #3B4455;\n",
              "      fill: #D2E3FC;\n",
              "    }\n",
              "\n",
              "    [theme=dark] .colab-df-convert:hover {\n",
              "      background-color: #434B5C;\n",
              "      box-shadow: 0px 1px 3px 1px rgba(0, 0, 0, 0.15);\n",
              "      filter: drop-shadow(0px 1px 2px rgba(0, 0, 0, 0.3));\n",
              "      fill: #FFFFFF;\n",
              "    }\n",
              "  </style>\n",
              "\n",
              "      <script>\n",
              "        const buttonEl =\n",
              "          document.querySelector('#df-c746c91e-145c-495a-be44-97a4a51c765e button.colab-df-convert');\n",
              "        buttonEl.style.display =\n",
              "          google.colab.kernel.accessAllowed ? 'block' : 'none';\n",
              "\n",
              "        async function convertToInteractive(key) {\n",
              "          const element = document.querySelector('#df-c746c91e-145c-495a-be44-97a4a51c765e');\n",
              "          const dataTable =\n",
              "            await google.colab.kernel.invokeFunction('convertToInteractive',\n",
              "                                                     [key], {});\n",
              "          if (!dataTable) return;\n",
              "\n",
              "          const docLinkHtml = 'Like what you see? Visit the ' +\n",
              "            '<a target=\"_blank\" href=https://colab.research.google.com/notebooks/data_table.ipynb>data table notebook</a>'\n",
              "            + ' to learn more about interactive tables.';\n",
              "          element.innerHTML = '';\n",
              "          dataTable['output_type'] = 'display_data';\n",
              "          await google.colab.output.renderOutput(dataTable, element);\n",
              "          const docLink = document.createElement('div');\n",
              "          docLink.innerHTML = docLinkHtml;\n",
              "          element.appendChild(docLink);\n",
              "        }\n",
              "      </script>\n",
              "    </div>\n",
              "  </div>\n",
              "  "
            ]
          },
          "metadata": {},
          "execution_count": 14
        }
      ],
      "source": [
        "df.corr()\n",
        "# As we can see co-relation table.our 'y' column which is totBM has positive relation with all columns except Crown diameter WE (cm)\n",
        "#column it is negitive withtotBM"
      ]
    },
    {
      "cell_type": "code",
      "execution_count": 15,
      "metadata": {
        "colab": {
          "base_uri": "https://localhost:8080/",
          "height": 618
        },
        "id": "5FoLmJfzsrd7",
        "outputId": "d7702d22-edc3-4ead-adf4-8b415a4d4576"
      },
      "outputs": [
        {
          "output_type": "execute_result",
          "data": {
            "text/plain": [
              "<Axes: >"
            ]
          },
          "metadata": {},
          "execution_count": 15
        },
        {
          "output_type": "display_data",
          "data": {
            "text/plain": [
              "<Figure size 640x480 with 2 Axes>"
            ],
            "image/png": "[encoded data removed]"
          },
          "metadata": {}
        }
      ],
      "source": [
        "# Plot the correlation matrix using a heatmap\n",
        "sns.heatmap(df.corr(), annot=True)\n",
        "#dark black color showing -1 relation with other column because co-relation matrix has relation -1 to +1."
      ]
    },
    {
      "cell_type": "markdown",
      "metadata": {
        "id": "8jec4bs0EECA"
      },
      "source": [
        "# **linear regression** "
      ]
    },
    {
      "cell_type": "code",
      "execution_count": 16,
      "metadata": {
        "id": "UZfiXiIHxeB8"
      },
      "outputs": [],
      "source": [
        "X=df.iloc[:,1:12]\n",
        "y=df.iloc[:,0]"
      ]
    },
    {
      "cell_type": "code",
      "execution_count": 17,
      "metadata": {
        "id": "hc2hzGC8K6K8"
      },
      "outputs": [],
      "source": [
        "from sklearn.model_selection import train_test_split\n",
        "X_train,X_test,y_train,y_test = train_test_split(X,y,test_size=0.2,random_state=3)\n",
        "     \n"
      ]
    },
    {
      "cell_type": "code",
      "execution_count": 18,
      "metadata": {
        "id": "0pyoti9lt0Q9"
      },
      "outputs": [],
      "source": [
        "from sklearn.linear_model import LinearRegression\n"
      ]
    },
    {
      "cell_type": "code",
      "execution_count": 19,
      "metadata": {
        "id": "oPq73YVNuB9M"
      },
      "outputs": [],
      "source": [
        "lr = LinearRegression()\n"
      ]
    },
    {
      "cell_type": "code",
      "execution_count": 20,
      "metadata": {
        "colab": {
          "base_uri": "https://localhost:8080/",
          "height": 75
        },
        "id": "OP41C0WFuGBn",
        "outputId": "4d1da852-4dbb-4900-f9cc-663b5b5809de"
      },
      "outputs": [
        {
          "output_type": "execute_result",
          "data": {
            "text/plain": [
              "LinearRegression()"
            ],
            "text/html": [
              "<style>#sk-container-id-1 {color: black;background-color: white;}#sk-container-id-1 pre{padding: 0;}#sk-container-id-1 div.sk-toggleable {background-color: white;}#sk-container-id-1 label.sk-toggleable__label {cursor: pointer;display: block;width: 100%;margin-bottom: 0;padding: 0.3em;box-sizing: border-box;text-align: center;}#sk-container-id-1 label.sk-toggleable__label-arrow:before {content: \"▸\";float: left;margin-right: 0.25em;color: #696969;}#sk-container-id-1 label.sk-toggleable__label-arrow:hover:before {color: black;}#sk-container-id-1 div.sk-estimator:hover label.sk-toggleable__label-arrow:before {color: black;}#sk-container-id-1 div.sk-toggleable__content {max-height: 0;max-width: 0;overflow: hidden;text-align: left;background-color: #f0f8ff;}#sk-container-id-1 div.sk-toggleable__content pre {margin: 0.2em;color: black;border-radius: 0.25em;background-color: #f0f8ff;}#sk-container-id-1 input.sk-toggleable__control:checked~div.sk-toggleable__content {max-height: 200px;max-width: 100%;overflow: auto;}#sk-container-id-1 input.sk-toggleable__control:checked~label.sk-toggleable__label-arrow:before {content: \"▾\";}#sk-container-id-1 div.sk-estimator input.sk-toggleable__control:checked~label.sk-toggleable__label {background-color: #d4ebff;}#sk-container-id-1 div.sk-label input.sk-toggleable__control:checked~label.sk-toggleable__label {background-color: #d4ebff;}#sk-container-id-1 input.sk-hidden--visually {border: 0;clip: rect(1px 1px 1px 1px);clip: rect(1px, 1px, 1px, 1px);height: 1px;margin: -1px;overflow: hidden;padding: 0;position: absolute;width: 1px;}#sk-container-id-1 div.sk-estimator {font-family: monospace;background-color: #f0f8ff;border: 1px dotted black;border-radius: 0.25em;box-sizing: border-box;margin-bottom: 0.5em;}#sk-container-id-1 div.sk-estimator:hover {background-color: #d4ebff;}#sk-container-id-1 div.sk-parallel-item::after {content: \"\";width: 100%;border-bottom: 1px solid gray;flex-grow: 1;}#sk-container-id-1 div.sk-label:hover label.sk-toggleable__label {background-color: #d4ebff;}#sk-container-id-1 div.sk-serial::before {content: \"\";position: absolute;border-left: 1px solid gray;box-sizing: border-box;top: 0;bottom: 0;left: 50%;z-index: 0;}#sk-container-id-1 div.sk-serial {display: flex;flex-direction: column;align-items: center;background-color: white;padding-right: 0.2em;padding-left: 0.2em;position: relative;}#sk-container-id-1 div.sk-item {position: relative;z-index: 1;}#sk-container-id-1 div.sk-parallel {display: flex;align-items: stretch;justify-content: center;background-color: white;position: relative;}#sk-container-id-1 div.sk-item::before, #sk-container-id-1 div.sk-parallel-item::before {content: \"\";position: absolute;border-left: 1px solid gray;box-sizing: border-box;top: 0;bottom: 0;left: 50%;z-index: -1;}#sk-container-id-1 div.sk-parallel-item {display: flex;flex-direction: column;z-index: 1;position: relative;background-color: white;}#sk-container-id-1 div.sk-parallel-item:first-child::after {align-self: flex-end;width: 50%;}#sk-container-id-1 div.sk-parallel-item:last-child::after {align-self: flex-start;width: 50%;}#sk-container-id-1 div.sk-parallel-item:only-child::after {width: 0;}#sk-container-id-1 div.sk-dashed-wrapped {border: 1px dashed gray;margin: 0 0.4em 0.5em 0.4em;box-sizing: border-box;padding-bottom: 0.4em;background-color: white;}#sk-container-id-1 div.sk-label label {font-family: monospace;font-weight: bold;display: inline-block;line-height: 1.2em;}#sk-container-id-1 div.sk-label-container {text-align: center;}#sk-container-id-1 div.sk-container {/* jupyter's `normalize.less` sets `[hidden] { display: none; }` but bootstrap.min.css set `[hidden] { display: none !important; }` so we also need the `!important` here to be able to override the default hidden behavior on the sphinx rendered scikit-learn.org. See: https://github.com/scikit-learn/scikit-learn/issues/21755 */display: inline-block !important;position: relative;}#sk-container-id-1 div.sk-text-repr-fallback {display: none;}</style><div id=\"sk-container-id-1\" class=\"sk-top-container\"><div class=\"sk-text-repr-fallback\"><pre>LinearRegression()</pre><b>In a Jupyter environment, please rerun this cell to show the HTML representation or trust the notebook. <br />On GitHub, the HTML representation is unable to render, please try loading this page with nbviewer.org.</b></div><div class=\"sk-container\" hidden><div class=\"sk-item\"><div class=\"sk-estimator sk-toggleable\"><input class=\"sk-toggleable__control sk-hidden--visually\" id=\"sk-estimator-id-1\" type=\"checkbox\" checked><label for=\"sk-estimator-id-1\" class=\"sk-toggleable__label sk-toggleable__label-arrow\">LinearRegression</label><div class=\"sk-toggleable__content\"><pre>LinearRegression()</pre></div></div></div></div></div>"
            ]
          },
          "metadata": {},
          "execution_count": 20
        }
      ],
      "source": [
        "lr.fit(X_train,y_train)\n"
      ]
    },
    {
      "cell_type": "code",
      "execution_count": 21,
      "metadata": {
        "id": "jpkjb2OKuGzO"
      },
      "outputs": [],
      "source": [
        "y_pred = lr.predict(X_test)\n"
      ]
    },
    {
      "cell_type": "markdown",
      "metadata": {
        "id": "fSMF6mhf4f_S"
      },
      "source": [
        "# **Apply metrices**"
      ]
    },
    {
      "cell_type": "code",
      "execution_count": 22,
      "metadata": {
        "id": "XCCqzIHTvEcA"
      },
      "outputs": [],
      "source": [
        "from sklearn.metrics import mean_absolute_error,mean_squared_error,r2_score\n"
      ]
    },
    {
      "cell_type": "code",
      "execution_count": 23,
      "metadata": {
        "colab": {
          "base_uri": "https://localhost:8080/"
        },
        "id": "nAP7Qq8yvE-m",
        "outputId": "fe33e22a-f2f9-4af3-e03f-b59bfc8af534"
      },
      "outputs": [
        {
          "output_type": "stream",
          "name": "stdout",
          "text": [
            "MAE 49.84168073623664\n",
            "MSE 4204.906145286368\n",
            "R2 score -2469.9051704996045\n"
          ]
        }
      ],
      "source": [
        "print(\"MAE\",mean_absolute_error(y_test,y_pred))\n",
        "print(\"MSE\",mean_squared_error(y_test,y_pred))\n",
        "print(\"R2 score\",r2_score(y_test,y_pred))\n",
        "#because we have a small dataset and point are too spread and data also contains outliers thats why score is high.But according to metrices MAE\n",
        "#give reasonable results"
      ]
    },
    {
      "cell_type": "code",
      "execution_count": 24,
      "metadata": {
        "id": "IOBV_3Qi2eQL"
      },
      "outputs": [],
      "source": [
        "import numpy as np\n",
        "import statsmodels.api as sm\n"
      ]
    },
    {
      "cell_type": "code",
      "execution_count": 25,
      "metadata": {
        "colab": {
          "base_uri": "https://localhost:8080/"
        },
        "id": "-aBhnwD93tcV",
        "outputId": "cab2b954-2e8c-4efd-e997-c446ef21b9be"
      },
      "outputs": [
        {
          "output_type": "stream",
          "name": "stdout",
          "text": [
            "AIC: 85.55936870033226\n"
          ]
        }
      ],
      "source": [
        "# Calculate AIC\n",
        "n = len(y)\n",
        "k = lr.coef_.size + 1  # add one for the intercept term\n",
        "rss = np.sum((y - lr.predict(X))**2)\n",
        "aic = n * np.log(rss/n) + 2*k\n",
        "\n",
        "print(\"AIC:\", aic)\n",
        "#In practice, AIC is often used in model selection and feature selection tasks, where the goal is to find the best model or set of features\n",
        "#that explain the data well."
      ]
    },
    {
      "cell_type": "markdown",
      "metadata": {
        "id": "F6BvTFsR5crN"
      },
      "source": [
        "# **Here are three methods for validating a machine learning model**\n",
        "1-Train/Test Split:we have apply this in above.its main purpose to split data in train and test.\n",
        "\n",
        "2-Cross-Validation:This method involves dividing the dataset into k-folds, where each fold is used as a testing set while the remaining folds are used as the training set.\n",
        "\n",
        "3-Leave-One-Out Cross-Validation (LOOCV):LOOCV is a powerful technique because it provides an unbiased estimate of the model's performance since each sample is used exactly once for validation. Additionally, LOOCV is particularly useful for small datasets because it allows us to make full use of all the available data without sacrificing any data for validation purposes. \n",
        "\n"
      ]
    },
    {
      "cell_type": "code",
      "execution_count": 26,
      "metadata": {
        "colab": {
          "base_uri": "https://localhost:8080/"
        },
        "id": "a3W60FpX9KCY",
        "outputId": "7bdeb281-2cfe-4118-9291-758bab977215"
      },
      "outputs": [
        {
          "output_type": "execute_result",
          "data": {
            "text/plain": [
              "array([-2.90939062e+01, -3.12510458e+05, -2.35565014e+01, -2.06482805e+02])"
            ]
          },
          "metadata": {},
          "execution_count": 26
        }
      ],
      "source": [
        "from sklearn.model_selection import cross_val_score\n",
        "\n",
        "# Apply 5-fold cross-validation and calculate the mean score\n",
        "scores = cross_val_score(lr, X, y, cv=4)\n",
        "scores\n",
        "#we validate our data in 4 times and it gives us best results in below.\n",
        "\n",
        "\n"
      ]
    },
    {
      "cell_type": "code",
      "source": [
        "from sklearn.model_selection import LeaveOneOut\n",
        "lr=LinearRegression()\n",
        "validation=LeaveOneOut()\n",
        "results=cross_val_score(lr,X,y,cv=validation)\n"
      ],
      "metadata": {
        "colab": {
          "base_uri": "https://localhost:8080/"
        },
        "id": "Oyzxx_T2YOuZ",
        "outputId": "e97d45d5-fd1c-4bf2-9b5e-e1a75f9c4e81"
      },
      "execution_count": 27,
      "outputs": [
        {
          "output_type": "stream",
          "name": "stderr",
          "text": [
            "/usr/local/lib/python3.9/dist-packages/sklearn/metrics/_regression.py:918: UndefinedMetricWarning: R^2 score is not well-defined with less than two samples.\n",
            "  warnings.warn(msg, UndefinedMetricWarning)\n",
            "/usr/local/lib/python3.9/dist-packages/sklearn/metrics/_regression.py:918: UndefinedMetricWarning: R^2 score is not well-defined with less than two samples.\n",
            "  warnings.warn(msg, UndefinedMetricWarning)\n",
            "/usr/local/lib/python3.9/dist-packages/sklearn/metrics/_regression.py:918: UndefinedMetricWarning: R^2 score is not well-defined with less than two samples.\n",
            "  warnings.warn(msg, UndefinedMetricWarning)\n",
            "/usr/local/lib/python3.9/dist-packages/sklearn/metrics/_regression.py:918: UndefinedMetricWarning: R^2 score is not well-defined with less than two samples.\n",
            "  warnings.warn(msg, UndefinedMetricWarning)\n",
            "/usr/local/lib/python3.9/dist-packages/sklearn/metrics/_regression.py:918: UndefinedMetricWarning: R^2 score is not well-defined with less than two samples.\n",
            "  warnings.warn(msg, UndefinedMetricWarning)\n",
            "/usr/local/lib/python3.9/dist-packages/sklearn/metrics/_regression.py:918: UndefinedMetricWarning: R^2 score is not well-defined with less than two samples.\n",
            "  warnings.warn(msg, UndefinedMetricWarning)\n",
            "/usr/local/lib/python3.9/dist-packages/sklearn/metrics/_regression.py:918: UndefinedMetricWarning: R^2 score is not well-defined with less than two samples.\n",
            "  warnings.warn(msg, UndefinedMetricWarning)\n",
            "/usr/local/lib/python3.9/dist-packages/sklearn/metrics/_regression.py:918: UndefinedMetricWarning: R^2 score is not well-defined with less than two samples.\n",
            "  warnings.warn(msg, UndefinedMetricWarning)\n",
            "/usr/local/lib/python3.9/dist-packages/sklearn/metrics/_regression.py:918: UndefinedMetricWarning: R^2 score is not well-defined with less than two samples.\n",
            "  warnings.warn(msg, UndefinedMetricWarning)\n"
          ]
        }
      ]
    },
    {
      "cell_type": "code",
      "source": [
        "print(np.mean(results))"
      ],
      "metadata": {
        "colab": {
          "base_uri": "https://localhost:8080/"
        },
        "id": "T_KLiMpBZdyL",
        "outputId": "e18ae66e-9257-49ba-9412-89e15ee3af0b"
      },
      "execution_count": 28,
      "outputs": [
        {
          "output_type": "stream",
          "name": "stdout",
          "text": [
            "nan\n"
          ]
        }
      ]
    },
    {
      "cell_type": "markdown",
      "metadata": {
        "id": "sE7THhEHLYzO"
      },
      "source": [
        "# Power Law\n",
        "\n",
        "power law refers to a statistical distribution where a small number of observations occur with very high frequency, while the majority of observations occur with much lower frequency. The power law is also known as the Pareto distribution or the 80/20 rule, where 80% of the effects come from 20% of the causes."
      ]
    },
    {
      "cell_type": "code",
      "source": [
        "pip install powerlaw"
      ],
      "metadata": {
        "colab": {
          "base_uri": "https://localhost:8080/"
        },
        "id": "No-AwI7vLdDF",
        "outputId": "33644057-51c5-4161-d2ff-67987da0ef52"
      },
      "execution_count": 29,
      "outputs": [
        {
          "output_type": "stream",
          "name": "stdout",
          "text": [
            "Looking in indexes: https://pypi.org/simple, https://us-python.pkg.dev/colab-wheels/public/simple/\n",
            "Collecting powerlaw\n",
            "  Downloading powerlaw-1.5-py3-none-any.whl (24 kB)\n",
            "Requirement already satisfied: matplotlib in /usr/local/lib/python3.9/dist-packages (from powerlaw) (3.7.1)\n",
            "Requirement already satisfied: scipy in /usr/local/lib/python3.9/dist-packages (from powerlaw) (1.10.1)\n",
            "Requirement already satisfied: numpy in /usr/local/lib/python3.9/dist-packages (from powerlaw) (1.22.4)\n",
            "Requirement already satisfied: mpmath in /usr/local/lib/python3.9/dist-packages (from powerlaw) (1.3.0)\n",
            "Requirement already satisfied: cycler>=0.10 in /usr/local/lib/python3.9/dist-packages (from matplotlib->powerlaw) (0.11.0)\n",
            "Requirement already satisfied: fonttools>=4.22.0 in /usr/local/lib/python3.9/dist-packages (from matplotlib->powerlaw) (4.39.3)\n",
            "Requirement already satisfied: python-dateutil>=2.7 in /usr/local/lib/python3.9/dist-packages (from matplotlib->powerlaw) (2.8.2)\n",
            "Requirement already satisfied: contourpy>=1.0.1 in /usr/local/lib/python3.9/dist-packages (from matplotlib->powerlaw) (1.0.7)\n",
            "Requirement already satisfied: packaging>=20.0 in /usr/local/lib/python3.9/dist-packages (from matplotlib->powerlaw) (23.0)\n",
            "Requirement already satisfied: pyparsing>=2.3.1 in /usr/local/lib/python3.9/dist-packages (from matplotlib->powerlaw) (3.0.9)\n",
            "Requirement already satisfied: pillow>=6.2.0 in /usr/local/lib/python3.9/dist-packages (from matplotlib->powerlaw) (8.4.0)\n",
            "Requirement already satisfied: kiwisolver>=1.0.1 in /usr/local/lib/python3.9/dist-packages (from matplotlib->powerlaw) (1.4.4)\n",
            "Requirement already satisfied: importlib-resources>=3.2.0 in /usr/local/lib/python3.9/dist-packages (from matplotlib->powerlaw) (5.12.0)\n",
            "Requirement already satisfied: zipp>=3.1.0 in /usr/local/lib/python3.9/dist-packages (from importlib-resources>=3.2.0->matplotlib->powerlaw) (3.15.0)\n",
            "Requirement already satisfied: six>=1.5 in /usr/local/lib/python3.9/dist-packages (from python-dateutil>=2.7->matplotlib->powerlaw) (1.16.0)\n",
            "Installing collected packages: powerlaw\n",
            "Successfully installed powerlaw-1.5\n"
          ]
        }
      ]
    },
    {
      "cell_type": "code",
      "execution_count": 30,
      "metadata": {
        "id": "FeD0TaxcLn5l"
      },
      "outputs": [],
      "source": [
        "import powerlaw\n"
      ]
    },
    {
      "cell_type": "code",
      "source": [
        "# select the column containing your target variable\n",
        "target = df.iloc[:,0].values\n",
        "\n",
        "# fit a power law distribution to the target variable\n",
        "fit = powerlaw.Fit(target)\n",
        "\n",
        "\n",
        "# print the results of the fit\n",
        "print(fit.power_law.alpha)\n",
        "print(fit.power_law.xmin)\n",
        "print(fit.distribution_compare('power_law', 'lognormal'))\n",
        "#here alpha=1.5 mean the probability of observing an event with a value x decreases more slowly than exponentially as x increases. \n",
        "#Xmin is the starting point of pdf and its starts from approxmately from 3.2.\n",
        "#due to small dataset,Paretto distribution never rezched a peaked value\n",
        "\n"
      ],
      "metadata": {
        "colab": {
          "base_uri": "https://localhost:8080/"
        },
        "id": "4WQ6SLIFMJ2L",
        "outputId": "9c7df794-95e2-44c3-a43b-46348137fa6f"
      },
      "execution_count": 45,
      "outputs": [
        {
          "output_type": "stream",
          "name": "stdout",
          "text": [
            "Calculating best minimal value for power law fit\n",
            "xmin progress: 00%\rxmin progress: 12%\rxmin progress: 25%\rxmin progress: 37%\rxmin progress: 50%\rxmin progress: 62%\rxmin progress: 75%\rxmin progress: 87%\r1.5753716511640183\n",
            "3.258817083\n",
            "(-0.14911261435436063, 0.7409864074506134)\n"
          ]
        }
      ]
    },
    {
      "cell_type": "code",
      "source": [
        "# plot the data and the fitted power law distribution\n",
        "powerlaw.plot_pdf(target)\n",
        "fit.power_law.plot_pdf()"
      ],
      "metadata": {
        "colab": {
          "base_uri": "https://localhost:8080/",
          "height": 451
        },
        "id": "0Vh2HkLyMR7h",
        "outputId": "7feac8c9-0213-495d-bc5d-1a3dcd6f1f0d"
      },
      "execution_count": 32,
      "outputs": [
        {
          "output_type": "execute_result",
          "data": {
            "text/plain": [
              "<Axes: >"
            ]
          },
          "metadata": {},
          "execution_count": 32
        },
        {
          "output_type": "display_data",
          "data": {
            "text/plain": [
              "<Figure size 640x480 with 1 Axes>"
            ],
            "image/png": "[encoded data removed]"
          },
          "metadata": {}
        }
      ]
    },
    {
      "cell_type": "code",
      "source": [
        "from sklearn.metrics import mean_absolute_error,mean_squared_error,r2_score\n",
        "print(\"MAE\",mean_absolute_error(y_test,y_pred))\n",
        "print(\"MSE\",mean_squared_error(y_test,y_pred))\n",
        "print(\"R2 score\",r2_score(y_test,y_pred))\n"
      ],
      "metadata": {
        "colab": {
          "base_uri": "https://localhost:8080/"
        },
        "id": "8UmIkHJVFugq",
        "outputId": "0b692a35-d775-4ed1-e56a-d0f50da48873"
      },
      "execution_count": 58,
      "outputs": [
        {
          "output_type": "stream",
          "name": "stdout",
          "text": [
            "MAE 49.84168073623664\n",
            "MSE 4204.906145286368\n",
            "R2 score -2469.9051704996045\n"
          ]
        }
      ]
    },
    {
      "cell_type": "code",
      "source": [],
      "metadata": {
        "id": "uuFhrEwgFu_d"
      },
      "execution_count": null,
      "outputs": []
    }
  ],
  "metadata": {
    "colab": {
      "provenance": []
    },
    "kernelspec": {
      "display_name": "Python 3",
      "name": "python3"
    },
    "language_info": {
      "name": "python"
    }
  },
  "nbformat": 4,
  "nbformat_minor": 0
}